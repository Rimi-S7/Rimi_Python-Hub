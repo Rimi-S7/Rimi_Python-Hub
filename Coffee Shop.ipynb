{
 "cells": [
  {
   "cell_type": "code",
   "execution_count": 7,
   "id": "05344eb5-dcd0-44a8-81fb-541a84faa487",
   "metadata": {},
   "outputs": [
    {
     "name": "stdout",
     "output_type": "stream",
     "text": [
      "Hello, Welcome to the shop....\n",
      "Cappuccino : $ 5 | Latte : $ 3 | Espresso : $ 7 | Doppio : $ 6\n"
     ]
    },
    {
     "name": "stdin",
     "output_type": "stream",
     "text": [
      "Order Name : Espresso\n"
     ]
    },
    {
     "name": "stdout",
     "output_type": "stream",
     "text": [
      "Cost : $ 7\n"
     ]
    },
    {
     "name": "stdin",
     "output_type": "stream",
     "text": [
      "How many you would like to order? 7\n",
      "Would you like to add More? Yes or No? Yes\n",
      "Additional Order : Doppio\n"
     ]
    },
    {
     "name": "stdout",
     "output_type": "stream",
     "text": [
      "Cost : $6 \n"
     ]
    },
    {
     "name": "stdin",
     "output_type": "stream",
     "text": [
      "How many you would like to order? 8\n"
     ]
    },
    {
     "name": "stdout",
     "output_type": "stream",
     "text": [
      "Total Cost : $ 97 | Thank You, Please visit again..\n"
     ]
    }
   ],
   "source": [
    "##Cappuccino = 5\n",
    "##Latte = 3\n",
    "##Espresso = 7\n",
    "##Doppio = 6\n",
    "print(\"Hello, Welcome to the shop....\")\n",
    "print(\"Cappuccino : $ 5 | Latte : $ 3 | Espresso : $ 7 | Doppio : $ 6\")\n",
    " \n",
    "## First Order Question\n",
    "Order_Name = input(\"Order Name :\")\n",
    "if Order_Name == \"Cappuccino\":\n",
    "    print(\"Cost : $ 5\")\n",
    "elif Order_Name == \"Latte\":\n",
    "    print(\"Cost : $ 3\")\n",
    "elif Order_Name == \"Espresso\":\n",
    "    print(\"Cost : $ 7\")\n",
    "elif Order_Name == \"Doppio\":\n",
    "    print(\"Cost : $ 6\")\n",
    "else:\n",
    "    print(\"error\")  \n",
    "Count1 = int(input(\"How many you would like to order?\"))\n",
    "\n",
    "## Additional Order Question\n",
    "More = input(\"Would you like to add More? Yes or No?\")\n",
    "## If Statement For Order \"YES\"\n",
    "if More == \"Yes\":\n",
    "    Additional_Order = input(\"Additional Order :\")\n",
    "    while Additional_Order == \"Cappuccino\":\n",
    "        Additional_Order = 5\n",
    "        print(\"Cost : $3 \")\n",
    "        break\n",
    "    while Additional_Order == \"Latte\":\n",
    "        Additional_Order = 3\n",
    "        print(\"Cost : $3 \")\n",
    "        break\n",
    "    while Additional_Order == \"Espresso\":\n",
    "        Additional_Order = 7\n",
    "        print(\"Cost : $7 \")\n",
    "        break\n",
    "    while Additional_Order == \"Doppio\":\n",
    "        Additional_Order = 6\n",
    "        print(\"Cost : $6 \")\n",
    "        break\n",
    "    Count2 = int(input(\"How many you would like to order?\"))\n",
    "    Cappuccino = 5\n",
    "    Latte = 3\n",
    "    Espresso = 7\n",
    "    Doppio = 6\n",
    "    if Order_Name == \"Cappuccino\":\n",
    "        print(\"Total Cost : $\",(Cappuccino * Count1)+ (Additional_Order * Count2),\"| Thank You, Please visit again..\")\n",
    "    elif Order_Name == \"Latte\":\n",
    "        print(\"Total Cost : $\",(Latte * Count1) + (Additional_Order * Count2),\"| Thank You, Please visit again..\")\n",
    "    elif Order_Name == \"Espresso\":\n",
    "        print(\"Total Cost : $\",(Espresso * Count1) + (Additional_Order * Count2),\"| Thank You, Please visit again..\")\n",
    "    elif Order_Name == \"Doppio\":\n",
    "        print(\"Total Cost : $\",(Doppio * Count1) + (Additional_Order * Count2),\"| Thank You, Please visit again..\")\n",
    "    else:\n",
    "        print(\"error\")\n",
    "## If Statement For Order \"NO\"\n",
    "elif More == \"No\":    \n",
    "    if Order_Name == \"Cappuccino\":\n",
    "        print(\"Total Cost : $\",Count1 * 5,\"| Thank You, Please visit again..\")\n",
    "    elif Order_Name == \"Latte\":\n",
    "        print(\"Total Cost : $\",Count1 * 3,\"| Thank You, Please visit again..\")\n",
    "    elif Order_Name == \"Espresso\":\n",
    "        print(\"Total Cost : $\",Count1 * 7,\"| Thank You, Please visit again..\")\n",
    "    elif Order_Name == \"Doppio\":\n",
    "        print(\"Total Cost : $\",Count1 * 6,\"| Thank You, Please visit again..\")\n",
    "    else:\n",
    "        print(\"error\")    \n",
    "else:\n",
    "    print(\"error1\")\n",
    "    \n"
   ]
  },
  {
   "cell_type": "code",
   "execution_count": null,
   "id": "c5469393-c5f0-4861-8f3c-ae512227e694",
   "metadata": {},
   "outputs": [],
   "source": []
  },
  {
   "cell_type": "code",
   "execution_count": null,
   "id": "61208171-a031-4897-b4fc-8d9fd0501100",
   "metadata": {},
   "outputs": [],
   "source": []
  },
  {
   "cell_type": "code",
   "execution_count": null,
   "id": "ea0f06bc-72ad-4f15-b133-3bd3388e748e",
   "metadata": {},
   "outputs": [],
   "source": []
  },
  {
   "cell_type": "code",
   "execution_count": null,
   "id": "f078fc33-ae39-4310-b122-734a616d7dae",
   "metadata": {},
   "outputs": [],
   "source": []
  }
 ],
 "metadata": {
  "kernelspec": {
   "display_name": "Python [conda env:base] *",
   "language": "python",
   "name": "conda-base-py"
  },
  "language_info": {
   "codemirror_mode": {
    "name": "ipython",
    "version": 3
   },
   "file_extension": ".py",
   "mimetype": "text/x-python",
   "name": "python",
   "nbconvert_exporter": "python",
   "pygments_lexer": "ipython3",
   "version": "3.12.7"
  }
 },
 "nbformat": 4,
 "nbformat_minor": 5
}
